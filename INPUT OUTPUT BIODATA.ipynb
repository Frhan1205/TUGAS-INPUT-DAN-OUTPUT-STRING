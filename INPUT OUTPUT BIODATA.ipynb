{
  "cells": [
    {
      "cell_type": "markdown",
      "id": "dd10c915",
      "metadata": {
        "id": "dd10c915"
      },
      "source": [
        "\n",
        "<h1> Buatlah biodata sederhana dengan menggunakan fungsi input(), dan output variabel dengan fungsi format() <h1>\n"
      ]
    },
    {
      "cell_type": "code",
      "execution_count": 8,
      "id": "3366800e",
      "metadata": {
        "colab": {
          "base_uri": "https://localhost:8080/"
        },
        "id": "3366800e",
        "outputId": "a3783cfe-f780-446e-825a-08cac7e74910"
      },
      "outputs": [
        {
          "output_type": "stream",
          "name": "stdout",
          "text": [
            "Masukan nama : M.farhan R\n",
            "Masukan umur : 18\n",
            "Masukan Tempat,tanggal lahir : 12 Desember 2005\n",
            "Masukan alamat : sekarwangi\n",
            "\n",
            " Nama : M.farhan r \n",
            " \n",
            " Umur : 17\n",
            " \n",
            " TTL : 12 \n",
            " \n",
            " Alamat : sekarwangi \n",
            "\n"
          ]
        }
      ],
      "source": [
        "Nama = input('Masukan nama : ')\n",
        "Umur = input('Masukan umur : ')\n",
        "TTL = input('Masukan Tempat,tanggal lahir : ')\n",
        "Alamat = input('Masukan alamat : ')\n",
        "\n",
        "biodata = \"\\n Nama : {} \\n \\n Umur : {}\\n \\n TTL : {} \\n \\n Alamat : {} \\n\".format(nama,int(umur),Ttl,alamat)\n",
        "\n",
        "print(biodata)\n"
      ]
    },
    {
      "cell_type": "code",
      "execution_count": null,
      "id": "fba22ac2",
      "metadata": {
        "id": "fba22ac2"
      },
      "outputs": [],
      "source": []
    }
  ],
  "metadata": {
    "kernelspec": {
      "display_name": "Python 3 (ipykernel)",
      "language": "python",
      "name": "python3"
    },
    "language_info": {
      "codemirror_mode": {
        "name": "ipython",
        "version": 3
      },
      "file_extension": ".py",
      "mimetype": "text/x-python",
      "name": "python",
      "nbconvert_exporter": "python",
      "pygments_lexer": "ipython3",
      "version": "3.11.5"
    },
    "colab": {
      "provenance": []
    }
  },
  "nbformat": 4,
  "nbformat_minor": 5
}