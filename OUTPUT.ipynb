{
  "cells": [
    {
      "cell_type": "code",
      "execution_count": 17,
      "id": "d390e328",
      "metadata": {
        "colab": {
          "base_uri": "https://localhost:8080/"
        },
        "id": "d390e328",
        "outputId": "7c3533a8-636f-4a14-c670-aea4d603afac"
      },
      "outputs": [
        {
          "output_type": "stream",
          "name": "stdout",
          "text": [
            "Output 1: putra nusa\n",
            "Output 2: NVRIA UAPTASKBM\n",
            "Output 3: SUKABUMI PUTRA NUSA UNIVERSITAS\n",
            "Output 4: UNPS\n",
            "Output 5: ASUN ARTUP IMUBAKUS\n"
          ]
        }
      ],
      "source": [
        "kalimat = \"UNIVERSITAS NUSA PUTRA SUKABUMI\"\n",
        "\n",
        "# Output 1: putra nusa\n",
        "output1 = ' '.join(kalimat.split()[2:0:-1]).lower()\n",
        "print(\"Output 1:\", output1)\n",
        "\n",
        "# Output 2: NIVERSITAS NSA PTRA SKABMI\n",
        "output2 = kalimat[1::2]\n",
        "print(\"Output 2:\", output2)\n",
        "\n",
        "# Output 3: SUKABUMI PUTRA NUSA UNIVERSITAS\n",
        "output3 = ' '.join(kalimat.split()[3:] + kalimat.split()[2:0:-1] + [kalimat.split()[0]])\n",
        "print(\"Output 3:\", output3)\n",
        "\n",
        "# Output 4: UNPS\n",
        "output4 = ''.join(word[0] for word in kalimat.split())\n",
        "print(\"Output 4:\", output4)\n",
        "\n",
        "# Output 5: TAS SAPU BUMI\n",
        "output5 = ' '.join(word[::-1] for word in kalimat.split()[1:4])\n",
        "print(\"Output 5:\", output5)"
      ]
    }
  ],
  "metadata": {
    "kernelspec": {
      "display_name": "Python 3 (ipykernel)",
      "language": "python",
      "name": "python3"
    },
    "language_info": {
      "codemirror_mode": {
        "name": "ipython",
        "version": 3
      },
      "file_extension": ".py",
      "mimetype": "text/x-python",
      "name": "python",
      "nbconvert_exporter": "python",
      "pygments_lexer": "ipython3",
      "version": "3.11.5"
    },
    "colab": {
      "provenance": []
    }
  },
  "nbformat": 4,
  "nbformat_minor": 5
}